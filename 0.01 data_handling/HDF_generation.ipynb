{
 "cells": [
  {
   "cell_type": "markdown",
   "metadata": {},
   "source": [
    "### Introduction\n",
    "\n",
    "The following notebook collates the data from original Thesis folder structure, removes repeating wildtype normal sample (fish one) and generates a hdf file for deep-learning purposes.\n",
    "\n",
    "### Importing Libraries"
   ]
  },
  {
   "cell_type": "code",
   "execution_count": 146,
   "metadata": {},
   "outputs": [],
   "source": [
    "import os\n",
    "import h5py\n",
    "import glob\n",
    "\n",
    "import pandas as pd\n",
    "import numpy as np\n",
    "import matplotlib.pyplot as plt\n",
    "\n",
    "from tqdm import tqdm"
   ]
  },
  {
   "cell_type": "markdown",
   "metadata": {},
   "source": [
    "### Defining Directories"
   ]
  },
  {
   "cell_type": "code",
   "execution_count": 18,
   "metadata": {},
   "outputs": [],
   "source": [
    "dir_zebrafish_hdf = \"/Users/katienoonan/Documents/0.01 Zebrafish Data/\"\n",
    "dir_zebrafish_dicom = \"/Users/katienoonan/Documents/Zebrafish Work/Data/\"\n",
    "\n",
    "dir_github_repo = \"/Users/katienoonan/Documents/GitHub/Zebrafish_Analysis_API/0.01 data_handling/\""
   ]
  },
  {
   "cell_type": "markdown",
   "metadata": {},
   "source": [
    "### Extra Info Excel File\n",
    "Excel File with information to groups of fish (mutated or not) and ages (0 - 2 Years)"
   ]
  },
  {
   "cell_type": "code",
   "execution_count": 68,
   "metadata": {},
   "outputs": [
    {
     "data": {
      "text/html": [
       "<div>\n",
       "<style scoped>\n",
       "    .dataframe tbody tr th:only-of-type {\n",
       "        vertical-align: middle;\n",
       "    }\n",
       "\n",
       "    .dataframe tbody tr th {\n",
       "        vertical-align: top;\n",
       "    }\n",
       "\n",
       "    .dataframe thead th {\n",
       "        text-align: right;\n",
       "    }\n",
       "</style>\n",
       "<table border=\"1\" class=\"dataframe\">\n",
       "  <thead>\n",
       "    <tr style=\"text-align: right;\">\n",
       "      <th></th>\n",
       "      <th>FishName</th>\n",
       "      <th>Age Cohort</th>\n",
       "      <th>Group</th>\n",
       "    </tr>\n",
       "  </thead>\n",
       "  <tbody>\n",
       "    <tr>\n",
       "      <th>0</th>\n",
       "      <td>I20200224191953.1.dcm</td>\n",
       "      <td>Young 2</td>\n",
       "      <td>Wild Type</td>\n",
       "    </tr>\n",
       "    <tr>\n",
       "      <th>1</th>\n",
       "      <td>I20200224191953.2.dcm</td>\n",
       "      <td>Young 2</td>\n",
       "      <td>Wild Type</td>\n",
       "    </tr>\n",
       "    <tr>\n",
       "      <th>2</th>\n",
       "      <td>I20200224191953.3.dcm</td>\n",
       "      <td>Young 2</td>\n",
       "      <td>Wild Type</td>\n",
       "    </tr>\n",
       "    <tr>\n",
       "      <th>3</th>\n",
       "      <td>I20200224191953.4.dcm</td>\n",
       "      <td>Young 2</td>\n",
       "      <td>Wild Type</td>\n",
       "    </tr>\n",
       "    <tr>\n",
       "      <th>4</th>\n",
       "      <td>I20200224191953.5.dcm</td>\n",
       "      <td>Young 2</td>\n",
       "      <td>Wild Type</td>\n",
       "    </tr>\n",
       "  </tbody>\n",
       "</table>\n",
       "</div>"
      ],
      "text/plain": [
       "                FishName Age Cohort      Group\n",
       "0  I20200224191953.1.dcm    Young 2  Wild Type\n",
       "1  I20200224191953.2.dcm    Young 2  Wild Type\n",
       "2  I20200224191953.3.dcm    Young 2  Wild Type\n",
       "3  I20200224191953.4.dcm    Young 2  Wild Type\n",
       "4  I20200224191953.5.dcm    Young 2  Wild Type"
      ]
     },
     "execution_count": 68,
     "metadata": {},
     "output_type": "execute_result"
    }
   ],
   "source": [
    "os.chdir(dir_github_repo)\n",
    "\n",
    "more_info_df = pd.read_csv('BMD15102021.xlsx - Sheet1.csv')\n",
    "more_info_df = more_info_df[[\"FishName\", \"Age Cohort\", \"Group\"]]\n",
    "\n",
    "more_info_df.head()"
   ]
  },
  {
   "cell_type": "markdown",
   "metadata": {},
   "source": [
    "### Reading in DICOM Files"
   ]
  },
  {
   "cell_type": "code",
   "execution_count": 73,
   "metadata": {},
   "outputs": [
    {
     "name": "stderr",
     "output_type": "stream",
     "text": [
      "Progress of Training:   9%|▉         | 58/612 [00:00<00:01, 449.46it/s]"
     ]
    },
    {
     "name": "stderr",
     "output_type": "stream",
     "text": [
      "Progress of Training: 100%|██████████| 612/612 [00:01<00:00, 559.48it/s]\n",
      "Progress of Testing: 100%|██████████| 100/100 [00:00<00:00, 279.91it/s]\n",
      "Progress of Validation: 100%|██████████| 100/100 [00:00<00:00, 388.02it/s]\n"
     ]
    }
   ],
   "source": [
    "type = \"spine\"\n",
    "\n",
    "os.chdir(os.path.join(dir_zebrafish_dicom, type.capitalize()))\n",
    "\n",
    "n = len(more_info_df)\n",
    "\n",
    "for set in os.listdir():\n",
    "    samples = glob.glob(str(set) + \"/*.dcm\")\n",
    "    samples = [samples[n].split(\"/\")[1] for n in range(len(samples))]   # Removing Sample Folder Name\n",
    "    samples = [samples[n][len(samples[n].split(\"_\")[0]) + 1:] for n in range(len(samples))]    # Reconstructing to Standard Naming Format\n",
    "\n",
    "    progressbar = tqdm(samples, desc = \"Progress of \" + str(set))\n",
    "    for sample in progressbar:\n",
    "        try:\n",
    "            more_info_df.loc[np.where(np.array(more_info_df[\"FishName\"]) == sample)[0][0], \"Original Subset\"] = set\n",
    "        except:\n",
    "            n += 1\n",
    "            more_info_df[\"Original Subset\"][n] = set\n",
    "            more_info_df[\"FishName\"][n] = sample\n",
    "\n"
   ]
  },
  {
   "cell_type": "markdown",
   "metadata": {},
   "source": [
    "### Getting Sample Names"
   ]
  },
  {
   "cell_type": "code",
   "execution_count": 139,
   "metadata": {},
   "outputs": [
    {
     "data": {
      "text/plain": [
       "812"
      ]
     },
     "execution_count": 139,
     "metadata": {},
     "output_type": "execute_result"
    }
   ],
   "source": [
    "os.chdir(os.path.join(dir_zebrafish_dicom, \"Individual Dicom Samples\"))\n",
    "\n",
    "sample_list = []\n",
    "\n",
    "for set in os.listdir():\n",
    "    samples = glob.glob(str(set) + \"/*.dcm\")\n",
    "    samples = [samples[n].split(\"/\")[1] for n in range(len(samples))]  # Removing Sample Folder Name\n",
    "    # samples = [samples[n][len(samples[n].split(\"_\")[0]) + 1:] for n in range(len(samples))]    # Reconstructing to Standard Naming Format\n",
    "\n",
    "    sample_list.extend(samples)\n",
    "\n",
    "# sample_list = np.array(sample_list)\n",
    "\n",
    "len(sample_list)"
   ]
  },
  {
   "cell_type": "markdown",
   "metadata": {},
   "source": [
    "Removing repeating reference sample and keeping only one random sample"
   ]
  },
  {
   "cell_type": "code",
   "execution_count": 140,
   "metadata": {},
   "outputs": [
    {
     "data": {
      "text/plain": [
       "171"
      ]
     },
     "execution_count": 140,
     "metadata": {},
     "output_type": "execute_result"
    }
   ],
   "source": [
    "repeat_reference = [np.array(sample_list)[n].split(\".\")[1] for n in range(len(sample_list))]\n",
    "repeat_reference = np.where(np.array(repeat_reference) == \"1\")[0]\n",
    "\n",
    "repeat_reference = np.delete(repeat_reference, np.random.choice(repeat_reference))\n",
    "len(repeat_reference)"
   ]
  },
  {
   "cell_type": "code",
   "execution_count": 141,
   "metadata": {},
   "outputs": [
    {
     "data": {
      "text/plain": [
       "641"
      ]
     },
     "execution_count": 141,
     "metadata": {},
     "output_type": "execute_result"
    }
   ],
   "source": [
    "sample_list = np.delete(np.array(sample_list), repeat_reference)\n",
    "len(sample_list)"
   ]
  },
  {
   "cell_type": "markdown",
   "metadata": {},
   "source": [
    "### Splitting into 70/10/20 Sets for Training, Testing and Validation"
   ]
  },
  {
   "cell_type": "code",
   "execution_count": 156,
   "metadata": {},
   "outputs": [
    {
     "name": "stderr",
     "output_type": "stream",
     "text": [
      "Progress:   0%|          | 0/641 [00:00<?, ?it/s]"
     ]
    },
    {
     "name": "stderr",
     "output_type": "stream",
     "text": [
      "Progress: 100%|██████████| 641/641 [00:00<00:00, 1488.33it/s]\n"
     ]
    },
    {
     "data": {
      "image/png": "[encoded data removed]",
      "text/plain": [
       "<Figure size 500x500 with 1 Axes>"
      ]
     },
     "metadata": {},
     "output_type": "display_data"
    }
   ],
   "source": [
    "dataframe = pd.DataFrame(columns=[\"Input Name\", \"Subset\"])\n",
    "\n",
    "dataframe[\"Input Name\"] = sample_list\n",
    "\n",
    "progressbar = tqdm(sample_list, desc = \"Progress\", leave = True)\n",
    "for sample in progressbar:\n",
    "    variable = np.random.randint(0, 100)\n",
    "\n",
    "    if variable <= 70:\n",
    "        dataframe.loc[np.where(dataframe[\"Input Name\"] == sample)[0][0], \"Subset\"] = \"Training\"\n",
    "\n",
    "    elif variable > 70 and variable <= 90:\n",
    "        dataframe.loc[np.where(dataframe[\"Input Name\"] == sample)[0][0], \"Subset\"] = \"Testing\"\n",
    "\n",
    "    else:\n",
    "        dataframe.loc[np.where(dataframe[\"Input Name\"] == sample)[0][0], \"Subset\"] = \"Validation\""
   ]
  },
  {
   "cell_type": "code",
   "execution_count": 161,
   "metadata": {},
   "outputs": [
    {
     "data": {
      "image/png": "[encoded data removed]",
      "text/plain": [
       "<Figure size 500x500 with 1 Axes>"
      ]
     },
     "metadata": {},
     "output_type": "display_data"
    }
   ],
   "source": [
    "os.chdir(dir_github_repo)\n",
    "\n",
    "fig = plt.figure(figsize = (5, 5))\n",
    "\n",
    "plt.pie(dataframe[\"Subset\"].value_counts(), labels = dataframe[\"Subset\"].value_counts().index, \n",
    "        autopct = '%1.1f%%', startangle = 140)\n",
    "plt.axis('equal')\n",
    "plt.title(\"Distribution Between Datasets\")\n",
    "\n",
    "fig.tight_layout()\n",
    "plt.savefig(\"Distribution\")\n",
    "plt.show()\n",
    "\n",
    "dataframe.to_excel(\"dataset_split.xlsx\", index = False)"
   ]
  },
  {
   "cell_type": "markdown",
   "metadata": {},
   "source": [
    "### Generating HDF"
   ]
  },
  {
   "cell_type": "code",
   "execution_count": 8,
   "metadata": {},
   "outputs": [],
   "source": [
    "os.chdir(dir_zebrafish_hdf)\n",
    "\n",
    "hdf = h5py.File(\"zebrafish_modelling_data_v1.hdf\", \"w\")\n",
    "\n",
    "hdf.close()"
   ]
  },
  {
   "cell_type": "markdown",
   "metadata": {},
   "source": []
  },
  {
   "cell_type": "code",
   "execution_count": null,
   "metadata": {},
   "outputs": [],
   "source": []
  }
 ],
 "metadata": {
  "kernelspec": {
   "display_name": "Python 3",
   "language": "python",
   "name": "python3"
  },
  "language_info": {
   "codemirror_mode": {
    "name": "ipython",
    "version": 3
   },
   "file_extension": ".py",
   "mimetype": "text/x-python",
   "name": "python",
   "nbconvert_exporter": "python",
   "pygments_lexer": "ipython3",
   "version": "3.9.6"
  }
 },
 "nbformat": 4,
 "nbformat_minor": 2
}
